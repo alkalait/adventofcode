{
 "cells": [
  {
   "cell_type": "markdown",
   "metadata": {},
   "source": [
    "# Advent of Code\n"
   ]
  },
  {
   "cell_type": "code",
   "execution_count": 23,
   "metadata": {
    "collapsed": false
   },
   "outputs": [
    {
     "name": "stdout",
     "output_type": "stream",
     "text": [
      "Using matplotlib backend: Qt4Agg\n"
     ]
    }
   ],
   "source": [
    "import numpy as np\n",
    "import re\n",
    "import pandas as pd\n",
    "import itertools\n",
    "from tqdm import tqdm\n",
    "import matplotlib.pyplot as plt\n",
    "%matplotlib"
   ]
  },
  {
   "cell_type": "markdown",
   "metadata": {},
   "source": [
    "### Day 1: Not Quite Lisp"
   ]
  },
  {
   "cell_type": "code",
   "execution_count": 220,
   "metadata": {
    "collapsed": false,
    "scrolled": true
   },
   "outputs": [
    {
     "name": "stdout",
     "output_type": "stream",
     "text": [
      "74\n",
      "1795\n"
     ]
    }
   ],
   "source": [
    "with open('./data/input1.txt', 'r') as f:\n",
    "    data = f.next()\n",
    "ups_and_downs = np.array([1 if x=='(' else -1 for x in data])\n",
    "print ups_and_downs.sum()\n",
    "print np.where(ups_and_downs.cumsum()==-1)[0][0] + 1"
   ]
  },
  {
   "cell_type": "markdown",
   "metadata": {},
   "source": [
    "### Day 2: I Was Told There Would Be No Math"
   ]
  },
  {
   "cell_type": "code",
   "execution_count": 221,
   "metadata": {
    "collapsed": false,
    "scrolled": true
   },
   "outputs": [
    {
     "name": "stdout",
     "output_type": "stream",
     "text": [
      "1586300\n",
      "3737498\n"
     ]
    }
   ],
   "source": [
    "with open('./data/input2.txt', 'r') as f:\n",
    "    dims = np.array([map(str.strip, spec.split('x')) for spec in f], dtype=int)\n",
    "l, w, h = dims.T\n",
    "side_areas = np.array([l*w, w*h, h*l])\n",
    "surf_areas = 2 * side_areas.sum(0)\n",
    "print (surf_areas + side_areas.min(0)).sum()\n",
    "print sum(((2 * sum(sorted(spec)[:2])) + spec.prod() for spec in dims))"
   ]
  },
  {
   "cell_type": "markdown",
   "metadata": {},
   "source": [
    "### Day 3: Perfectly Spherical Houses in a Vacuum"
   ]
  },
  {
   "cell_type": "code",
   "execution_count": 222,
   "metadata": {
    "collapsed": false,
    "scrolled": false
   },
   "outputs": [
    {
     "name": "stdout",
     "output_type": "stream",
     "text": [
      "2081\n",
      "2341\n"
     ]
    }
   ],
   "source": [
    "with open('./data/input3.txt', 'r') as f:\n",
    "    data = f.next()\n",
    "translation_map = {'^':(0,1), '>':(1,0), 'v':(0,-1), '<':(-1,0)}\n",
    "# don't forget to include the starting location (0,0) twice, once for Santa and once for Robo-Santa!\n",
    "translations = np.array([(0,0), (0,0)] + [translation_map[d] for d in data])\n",
    "santa, robosanta = translations[::2], translations[1::2]\n",
    "def unique_locations(translations):\n",
    "    path = translations.cumsum(0)\n",
    "    return set(map(tuple, path))\n",
    "\n",
    "print len(unique_locations(translations))\n",
    "print len(set.union(unique_locations(santa), unique_locations(robosanta)))"
   ]
  },
  {
   "cell_type": "markdown",
   "metadata": {},
   "source": [
    "### Day 4: The Ideal Stocking Stuffer"
   ]
  },
  {
   "cell_type": "code",
   "execution_count": 223,
   "metadata": {
    "collapsed": false,
    "scrolled": false
   },
   "outputs": [
    {
     "name": "stdout",
     "output_type": "stream",
     "text": [
      "117946\n",
      "3938038\n"
     ]
    }
   ],
   "source": [
    "import hashlib as hl\n",
    "\n",
    "def find_hash(key, min_zeros):\n",
    "    for i in itertools.count():\n",
    "        h = hl.md5(key + str(i))\n",
    "        if h.hexdigest()[:min_zeros] == '0'*min_zeros:\n",
    "            break\n",
    "    return i\n",
    "\n",
    "print find_hash('ckczppom', 5)\n",
    "print find_hash('ckczppom', 6)"
   ]
  },
  {
   "cell_type": "markdown",
   "metadata": {},
   "source": [
    "### Day 5: Doesn't He Have Intern-Elves For This?"
   ]
  },
  {
   "cell_type": "code",
   "execution_count": 224,
   "metadata": {
    "collapsed": false,
    "scrolled": false
   },
   "outputs": [
    {
     "name": "stdout",
     "output_type": "stream",
     "text": [
      "258\n",
      "53\n"
     ]
    }
   ],
   "source": [
    "with open('./data/input5.txt', 'r') as f:\n",
    "    strings = [s.strip() for s in f]\n",
    "\n",
    "vowels_cond = np.array(map(lambda x: [c in 'aeiou' for c in x], strings)).sum(1) > 2\n",
    "repeat_cond = np.array([len(re.findall('(\\\\w)\\\\1', x)) for x in strings]) > 0\n",
    "forbid_cond = np.array(map(lambda x: [s in x for s in ('ab', 'cd', 'pq', 'xy')], strings)).sum(1) == 0\n",
    "repeat_cond2 = np.array([len(re.findall('(\\\\w{2}).*\\\\1', x)) for x in strings]) > 0\n",
    "repeat_cond3 = np.array([len(re.findall('(\\\\w).\\\\1', x)) for x in strings]) > 0\n",
    "\n",
    "print (forbid_cond & repeat_cond & vowels_cond).sum()\n",
    "print (repeat_cond2 & repeat_cond3).sum()"
   ]
  },
  {
   "cell_type": "markdown",
   "metadata": {},
   "source": [
    "### Day 6: Probably a Fire Hazard"
   ]
  },
  {
   "cell_type": "code",
   "execution_count": 225,
   "metadata": {
    "collapsed": false,
    "scrolled": false
   },
   "outputs": [
    {
     "name": "stdout",
     "output_type": "stream",
     "text": [
      "377891\n",
      "14110788\n"
     ]
    }
   ],
   "source": [
    "lights = np.zeros((1000, 1000), dtype=bool)\n",
    "display = np.zeros((1000, 1000), dtype=int)\n",
    "with open('./data/input6.txt', 'r') as f:\n",
    "    coords = np.array([re.findall('(.*) (\\d+),(\\d+).*?(\\d+),(\\d+)', r)[0] for r in f])\n",
    "\n",
    "commands, (x1, y1, x2, y2) = coords.T[0], coords.T[1:].astype(int)\n",
    "for i, c in enumerate(commands):\n",
    "    if c == 'turn on':\n",
    "        lights[x1[i]:x2[i]+1, y1[i]:y2[i]+1] = True\n",
    "        display[x1[i]:x2[i]+1, y1[i]:y2[i]+1] += 1\n",
    "    elif c == 'turn off':\n",
    "        lights[x1[i]:x2[i]+1, y1[i]:y2[i]+1] = False\n",
    "        display[x1[i]:x2[i]+1, y1[i]:y2[i]+1] -= 1\n",
    "    else:\n",
    "        lights[x1[i]:x2[i]+1, y1[i]:y2[i]+1] = ~lights[x1[i]:x2[i]+1, y1[i]:y2[i]+1]\n",
    "        display[x1[i]:x2[i]+1, y1[i]:y2[i]+1] += 2\n",
    "    display = np.maximum(0, display)\n",
    "\n",
    "print lights.sum()\n",
    "print np.maximum(0, display).sum()"
   ]
  },
  {
   "cell_type": "markdown",
   "metadata": {},
   "source": [
    "### Day 7: Some Assembly Required"
   ]
  },
  {
   "cell_type": "code",
   "execution_count": 226,
   "metadata": {
    "collapsed": false,
    "scrolled": true
   },
   "outputs": [
    {
     "name": "stdout",
     "output_type": "stream",
     "text": [
      "16076\n",
      "2797\n"
     ]
    }
   ],
   "source": [
    "d = {'AND':'&', 'OR':'|', 'RSHIFT':'>>', 'LSHIFT':'<<', 'NOT':'~'}\n",
    "bitwise = re.compile(r'(' + '|'.join(d.keys()) + r')')\n",
    "\n",
    "with open('./data/input7.txt', 'r') as f:\n",
    "    data = f.read().replace('if', 'iff').replace('as', 'ass').replace('in', 'inn').replace('is', 'iss').split('\\n')[:-1]\n",
    "\n",
    "data = map(lambda x: bitwise.sub(lambda y: d[y.group()], x), data)  # replace by bit-wise operators\n",
    "data = map(lambda x: re.findall('(.+) -> (.+)', x)[0], data)\n",
    "circuit = {x[1]: x[1] + ' = ' + x[0] for x in data} # \n",
    "\n",
    "def run_circuit(circuit, out):\n",
    "    '''Not efficient: Runs in O(N**2)'''\n",
    "    for _ in range(len(circuit)):\n",
    "        for wire in circuit:\n",
    "            try: exec(circuit[wire])\n",
    "            except: pass\n",
    "    return eval(out)\n",
    "\n",
    "a = run_circuit(circuit, 'a')\n",
    "circuit['b'] = 'b = %d' % a  # override b signal\n",
    "print a\n",
    "print run_circuit(circuit, 'a')  # run updated circuit"
   ]
  },
  {
   "cell_type": "markdown",
   "metadata": {},
   "source": [
    "###  Day 8: Matchsticks"
   ]
  },
  {
   "cell_type": "code",
   "execution_count": 227,
   "metadata": {
    "collapsed": false,
    "scrolled": false
   },
   "outputs": [
    {
     "name": "stdout",
     "output_type": "stream",
     "text": [
      "1333\n",
      "2046\n"
     ]
    },
    {
     "data": {
      "text/html": [
       "<div>\n",
       "<table border=\"1\" class=\"dataframe\">\n",
       "  <thead>\n",
       "    <tr style=\"text-align: right;\">\n",
       "      <th></th>\n",
       "      <th>string</th>\n",
       "      <th>stringcode</th>\n",
       "      <th>stringcodecode</th>\n",
       "    </tr>\n",
       "  </thead>\n",
       "  <tbody>\n",
       "    <tr>\n",
       "      <th>0</th>\n",
       "      <td>sjdivfriyaaqa�v\"k\"mpcu\"yyu\"en</td>\n",
       "      <td>\"sjdivfriyaaqa\\xd2v\\\"k\\\"mpcu\\\"yyu\\\"en\"</td>\n",
       "      <td>'\\\"sjdivfriyaaqa\\\\xd2v\\\\\\\"k\\\\\\\"mpcu\\\\\\\"yyu\\\\\\\"...</td>\n",
       "    </tr>\n",
       "    <tr>\n",
       "      <th>1</th>\n",
       "      <td>vcqc</td>\n",
       "      <td>\"vcqc\"</td>\n",
       "      <td>'\\\"vcqc\\\"'</td>\n",
       "    </tr>\n",
       "    <tr>\n",
       "      <th>2</th>\n",
       "      <td>zbcwgmbpijcxu\"yins\"sfxn</td>\n",
       "      <td>\"zbcwgmbpijcxu\\\"yins\\\"sfxn\"</td>\n",
       "      <td>'\\\"zbcwgmbpijcxu\\\\\\\"yins\\\\\\\"sfxn\\\"'</td>\n",
       "    </tr>\n",
       "    <tr>\n",
       "      <th>3</th>\n",
       "      <td>yumngprx</td>\n",
       "      <td>\"yumngprx\"</td>\n",
       "      <td>'\\\"yumngprx\\\"'</td>\n",
       "    </tr>\n",
       "    <tr>\n",
       "      <th>4</th>\n",
       "      <td>bbdj</td>\n",
       "      <td>\"bbdj\"</td>\n",
       "      <td>'\\\"bbdj\\\"'</td>\n",
       "    </tr>\n",
       "  </tbody>\n",
       "</table>\n",
       "</div>"
      ],
      "text/plain": [
       "                          string                              stringcode  \\\n",
       "0  sjdivfriyaaqa�v\"k\"mpcu\"yyu\"en  \"sjdivfriyaaqa\\xd2v\\\"k\\\"mpcu\\\"yyu\\\"en\"   \n",
       "1                           vcqc                                  \"vcqc\"   \n",
       "2        zbcwgmbpijcxu\"yins\"sfxn             \"zbcwgmbpijcxu\\\"yins\\\"sfxn\"   \n",
       "3                       yumngprx                              \"yumngprx\"   \n",
       "4                           bbdj                                  \"bbdj\"   \n",
       "\n",
       "                                      stringcodecode  \n",
       "0  '\\\"sjdivfriyaaqa\\\\xd2v\\\\\\\"k\\\\\\\"mpcu\\\\\\\"yyu\\\\\\\"...  \n",
       "1                                         '\\\"vcqc\\\"'  \n",
       "2                '\\\"zbcwgmbpijcxu\\\\\\\"yins\\\\\\\"sfxn\\\"'  \n",
       "3                                     '\\\"yumngprx\\\"'  \n",
       "4                                         '\\\"bbdj\\\"'  "
      ]
     },
     "execution_count": 227,
     "metadata": {},
     "output_type": "execute_result"
    }
   ],
   "source": [
    "with open('./data/input8.txt', 'r') as f:\n",
    "    data = f.read().split('\\n')[:-1]\n",
    "\n",
    "escapechars = re.compile('|'.join([r'\\\\', \"'\", '\"']))\n",
    "\n",
    "df = pd.DataFrame({'stringcode': data, 'string': map(eval, data),\n",
    "                   'stringcodecode': map(lambda x: \"'\"+escapechars.sub(lambda y:'\\\\'+y.group(),x)+\"'\", data)\n",
    "                  })\n",
    "print (df.stringcode.map(len) - df.string.map(len)).sum()\n",
    "print (df.stringcodecode.map(len) - df.stringcode.map(len)).sum()\n",
    "df.head()"
   ]
  },
  {
   "cell_type": "markdown",
   "metadata": {},
   "source": [
    "### Day 9: All in a Single Night"
   ]
  },
  {
   "cell_type": "code",
   "execution_count": 228,
   "metadata": {
    "collapsed": false,
    "scrolled": true
   },
   "outputs": [
    {
     "name": "stdout",
     "output_type": "stream",
     "text": [
      "117\n",
      "909\n"
     ]
    }
   ],
   "source": [
    "with open('./data/input9.txt', 'r') as f:\n",
    "    data = map(lambda x: x.split(' ')[::2], f.read().split('\\n')[:-1])\n",
    "\n",
    "df = pd.DataFrame(data, columns=['A', 'B', 'distance']).pivot('A', 'B', 'distance')\n",
    "\n",
    "def dist(A, B):\n",
    "    try: return int(df[A][B])\n",
    "    except: return int(df[B][A])\n",
    "\n",
    "min_tour_len = np.Inf\n",
    "max_tour_len = 0\n",
    "locations = df.columns | df.index\n",
    "for tour in itertools.permutations(locations, len(locations)):\n",
    "    tour_len = sum([dist(tour[j], tour[j+1]) for j in xrange(len(tour)-1)])\n",
    "    min_tour_len = min(tour_len, min_tour_len)\n",
    "    max_tour_len = max(tour_len, max_tour_len)\n",
    "\n",
    "print min_tour_len\n",
    "print max_tour_len"
   ]
  },
  {
   "cell_type": "markdown",
   "metadata": {},
   "source": [
    "### Day 10: Elves Look, Elves Say"
   ]
  },
  {
   "cell_type": "code",
   "execution_count": 229,
   "metadata": {
    "collapsed": false
   },
   "outputs": [
    {
     "name": "stdout",
     "output_type": "stream",
     "text": [
      "360154\n",
      "5103798\n"
     ]
    }
   ],
   "source": [
    "def look_and_say(N):\n",
    "    new_N = ''\n",
    "    last_char = N[0]\n",
    "    count = 0\n",
    "    for c in N:\n",
    "        if c == last_char:\n",
    "            count += 1\n",
    "        else:\n",
    "            new_N += str(count) + last_char\n",
    "            last_char = c\n",
    "            count = 1\n",
    "    new_N += str(count) + last_char\n",
    "    return new_N\n",
    "\n",
    "N = '1113122113'\n",
    "lengths = []\n",
    "for _ in xrange(50):\n",
    "    N = look_and_say(N)\n",
    "    lengths.append(len(N))\n",
    "print lengths[39]\n",
    "print lengths[-1]"
   ]
  },
  {
   "cell_type": "markdown",
   "metadata": {},
   "source": [
    "### Day 11: Corporate Policy"
   ]
  },
  {
   "cell_type": "code",
   "execution_count": 230,
   "metadata": {
    "collapsed": false
   },
   "outputs": [
    {
     "name": "stdout",
     "output_type": "stream",
     "text": [
      "cqjxxyzz\n",
      "cqkaabcc\n"
     ]
    }
   ],
   "source": [
    "def next_pwd(pwd):\n",
    "    return next_pwd(pwd[:-1]) + 'a' if pwd[-1] == 'z' else pwd[:-1] + unichr(ord(pwd[-1]) + 1)\n",
    "\n",
    "def check_for_staight(pwd):\n",
    "    for i, c in enumerate(pwd[:-2]):\n",
    "        if unichr(ord(c)+1) == pwd[i+1] and unichr(ord(c)+2) == pwd[i+2]:\n",
    "            return True\n",
    "    return False\n",
    "\n",
    "def check_for_chars(pwd):\n",
    "    return ~np.array([c in pwd for c in 'iol']).any()\n",
    "\n",
    "def check_for_pairs(pwd):\n",
    "    return len(re.findall('(\\w)\\\\1', pwd)) > 1\n",
    "\n",
    "def next_valid_pwd(pwd):\n",
    "    for _ in itertools.count():\n",
    "        if check_for_staight(pwd) and check_for_chars(pwd) and check_for_pairs(pwd):\n",
    "            return pwd\n",
    "        else:\n",
    "            pwd = next_pwd(pwd)\n",
    "\n",
    "pwd2 = next_valid_pwd('cqjxjnds')\n",
    "print pwd2\n",
    "print next_valid_pwd(next_pwd(pwd2))"
   ]
  },
  {
   "cell_type": "markdown",
   "metadata": {},
   "source": [
    "### Day 12: JSAbacusFramework.io"
   ]
  },
  {
   "cell_type": "code",
   "execution_count": 231,
   "metadata": {
    "collapsed": false
   },
   "outputs": [
    {
     "name": "stdout",
     "output_type": "stream",
     "text": [
      "191164\n",
      "87842\n"
     ]
    }
   ],
   "source": [
    "with open('./data/input12.txt', 'r') as f:\n",
    "    data = eval(f.read())\n",
    "\n",
    "def sum_nested_numerals(obj, exclude_color=None):\n",
    "    s = 0\n",
    "    if type(obj) is dict and exclude_color in obj.itervalues():\n",
    "        return s\n",
    "    elif type(obj) is dict:\n",
    "        for key in obj:\n",
    "            s += sum_nested_numerals(obj[key], exclude_color)\n",
    "    elif type(obj) is list:\n",
    "        for item in obj:\n",
    "            s += sum_nested_numerals(item, exclude_color)\n",
    "    elif type(obj) is int:\n",
    "        s += obj\n",
    "    return s\n",
    "\n",
    "print sum_nested_numerals(data)\n",
    "print sum_nested_numerals(data, exclude_color='red')"
   ]
  },
  {
   "cell_type": "markdown",
   "metadata": {},
   "source": [
    "### Day 13: Knights of the Dinner Table"
   ]
  },
  {
   "cell_type": "code",
   "execution_count": null,
   "metadata": {
    "collapsed": false,
    "scrolled": true
   },
   "outputs": [],
   "source": [
    "with open('./data/input13.txt', 'r') as f:\n",
    "    data = map(lambda x: np.array(x.replace('gain ', '+').replace('lose ', '-').split(' '))[[0,2,-1]], f.read().split('.\\n')[:-1])\n",
    "\n",
    "w = pd.DataFrame(np.array(zip(*data)).T, columns=['A','weight','B']).pivot('A','B','weight').fillna(0).astype(int)\n",
    "w['You'] = 0\n",
    "w.loc['You'] = 0\n",
    "\n",
    "def max_seating_score(w):\n",
    "    max_score = 0\n",
    "    for seats in itertools.permutations(w.index, w.shape[0]):\n",
    "        score = sum([w[seats[j]][seats[j+1]] for j in xrange(-1, len(seats)-1)])\n",
    "        max_score = max(score, max_score)\n",
    "    return max_score\n",
    "\n",
    "print max_seating_score((w + w.T).iloc[:-1, :-1])\n",
    "print max_seating_score(w + w.T)"
   ]
  },
  {
   "cell_type": "markdown",
   "metadata": {},
   "source": [
    "### Day 14: Reindeer Olympics"
   ]
  },
  {
   "cell_type": "code",
   "execution_count": 195,
   "metadata": {
    "collapsed": false
   },
   "outputs": [
    {
     "name": "stdout",
     "output_type": "stream",
     "text": [
      "2696\n",
      "1084\n"
     ]
    }
   ],
   "source": [
    "with open('./data/input14.txt', 'r') as f:\n",
    "    data = np.array(map(lambda x: np.array(x.split(' '))[[3,6,-2]], f.read().split('\\n')[:-1]), dtype=int)\n",
    "\n",
    "def state_in_time(speed, run_duration, rest_duration):\n",
    "    cycles = int(np.ceil(float(time) / (run_duration + rest_duration)))\n",
    "    return (([1]*run_duration + [0]*rest_duration) * cycles)\n",
    "\n",
    "time = 2503\n",
    "cum_distances = np.array(map(lambda x: np.cumsum(state_in_time(*x)[:time]) * x[0], data))\n",
    "\n",
    "print max(cum_distances[:, -1])\n",
    "print pd.Series(cum_distances.argmax(0)).value_counts().max()"
   ]
  },
  {
   "cell_type": "markdown",
   "metadata": {},
   "source": [
    "### Day 15: Science for Hungry People"
   ]
  },
  {
   "cell_type": "code",
   "execution_count": 194,
   "metadata": {
    "collapsed": false
   },
   "outputs": [
    {
     "name": "stdout",
     "output_type": "stream",
     "text": [
      "13882464\n",
      "11171160\n"
     ]
    }
   ],
   "source": [
    "with open('./data/input15.txt', 'r') as f:\n",
    "    # properties x ingredients\n",
    "    properties = np.reshape(re.findall('-?\\d+', f.read()), (4, 5)).astype(int).T\n",
    "\n",
    "max_score = 0\n",
    "max_score_lite = 0\n",
    "for c in itertools.product(*[xrange(101)]*3):\n",
    "    c = c[0], c[1], c[2], 100 - sum(c)\n",
    "    if c[-1] >= 0:  # do the teaspoons add to 100?\n",
    "        mix = np.maximum(0, np.dot(properties, c))\n",
    "        max_score = max(max_score, mix[:-1].prod())\n",
    "        if mix[-1] == 500:  # does this recipe yield 500 calories?\n",
    "            max_score_lite = max(max_score_lite, mix[:-1].prod())\n",
    "\n",
    "print max_score\n",
    "print max_score_lite"
   ]
  },
  {
   "cell_type": "markdown",
   "metadata": {},
   "source": [
    "### Day 16: Aunt Sue"
   ]
  },
  {
   "cell_type": "code",
   "execution_count": 191,
   "metadata": {
    "collapsed": false,
    "scrolled": false
   },
   "outputs": [
    {
     "name": "stderr",
     "output_type": "stream",
     "text": [
      "                                                                                                                                                                                                                               "
     ]
    },
    {
     "name": "stdout",
     "output_type": "stream",
     "text": [
      "    children cats samoyeds pomeranians akitas vizslas goldfish trees cars  \\\n",
      "373      NaN  NaN      NaN           3    NaN       0      NaN   NaN  NaN   \n",
      "\n",
      "    perfumes  \n",
      "373        1  \n",
      "    children cats samoyeds pomeranians akitas vizslas goldfish trees cars  \\\n",
      "260      NaN  NaN        2         NaN    NaN       0        0   NaN  NaN   \n",
      "\n",
      "    perfumes  \n",
      "260      NaN  \n"
     ]
    },
    {
     "name": "stderr",
     "output_type": "stream",
     "text": [
      "\r"
     ]
    }
   ],
   "source": [
    "df = pd.DataFrame(columns=['children', 'cats', 'samoyeds', 'pomeranians', 'akitas', 'vizslas',\n",
    "                           'goldfish', 'trees', 'cars', 'perfumes'])\n",
    "with open('./data/input16.txt', 'r') as f:\n",
    "    data = f.read().split('\\n')[:-1]\n",
    "\n",
    "aunt_signature = np.array([3, 7, 2, 3, 0, 0, 5, 3, 2, 1])\n",
    "for r in tqdm(data):\n",
    "    exec('df.loc[%s,:] = {\\'%s\\':%s, \\'%s\\':%s, \\'%s\\':%s}' % re.findall('(\\d+): (.+): (\\d+), (.+): (\\d+), (.+): (\\d+)', r)[0])\n",
    "    \n",
    "print df[df.apply(lambda x: sum(x == aunt_signature) == 3, axis=1)]\n",
    "print df[df.apply(lambda x:\n",
    "         sum(list(x[[0,2,4,5,8,9]]==aunt_signature[[0,2,4,5,8,9]]) +\n",
    "         list(x[[1,7]]>aunt_signature[[1,7]])+\n",
    "         list(x[[3,6]]<aunt_signature[[3,6]])) == 3,\n",
    "         axis=1)]"
   ]
  },
  {
   "cell_type": "markdown",
   "metadata": {},
   "source": [
    "### Day 17: No Such Thing as Too Much"
   ]
  },
  {
   "cell_type": "code",
   "execution_count": 11,
   "metadata": {
    "collapsed": false,
    "scrolled": false
   },
   "outputs": [
    {
     "name": "stderr",
     "output_type": "stream",
     "text": [
      "                                                                                                                                                                                                                               "
     ]
    },
    {
     "name": "stdout",
     "output_type": "stream",
     "text": [
      "4372\n",
      "4\n"
     ]
    },
    {
     "name": "stderr",
     "output_type": "stream",
     "text": [
      "\r"
     ]
    }
   ],
   "source": [
    "with open('./data/input17.txt', 'r') as f:\n",
    "    containers = np.array(f.read().split('\\n')[:-1], dtype=int)\n",
    "\n",
    "count = 0\n",
    "combo_150 = []\n",
    "for n in tqdm(xrange(1, len(containers) + 1)):\n",
    "    for combo in itertools.combinations(containers, n):\n",
    "        if sum(combo) == 150:\n",
    "            count += 1\n",
    "            combo_150.append(combo)\n",
    "\n",
    "print count\n",
    "print pd.Series(map(len, combo_150)).value_counts().iloc[-1]"
   ]
  },
  {
   "cell_type": "markdown",
   "metadata": {},
   "source": [
    "### Day 18: Like a GIF For Your Yard"
   ]
  },
  {
   "cell_type": "code",
   "execution_count": null,
   "metadata": {
    "collapsed": true
   },
   "outputs": [],
   "source": [
    "with open('./data/input18.txt', 'r') as f:\n",
    "    lights = np.array(map(list, f.read().replace('#', '1').replace('.', '0').split('\\n')[:-1]), dtype=int)\n",
    "    lights2 = lights.copy()\n",
    "    lights2[[0, 0, 99, 99], [0, 99, 0, 99]] = 1 \n",
    "    \n",
    "def next_state(lights):\n",
    "    n = lights.shape[0]\n",
    "    appended_lights = np.zeros((n + 2, n + 2))\n",
    "    appended_lights[1:-1, 1:-1] = lights\n",
    "    new_state = np.zeros_like(appended_lights)\n",
    "    for i, j in itertools.product(xrange(1, n + 1), xrange(1, n + 1)):\n",
    "        s = appended_lights[i - 1:i + 2, j - 1:j + 2].sum() - appended_lights[i, j]\n",
    "        if appended_lights[i, j] == 1:\n",
    "            new_state[i, j] = 0 if s not in [2, 3] else 1\n",
    "        else:\n",
    "            new_state[i, j] = 1 if s == 3 else 0\n",
    "    return new_state[1:-1, 1:-1]\n",
    "\n",
    "# plt.figure(figsize=(7,7))\n",
    "for i in tqdm(range(100)):\n",
    "    lights = next_state(lights)\n",
    "    lights2 = next_state(lights2)\n",
    "    lights2[[0, 0, 99, 99], [0, 99, 0, 99]] = 1\n",
    "    \n",
    "#     plt.imshow(lights, interpolation='nearest', cmap=plt.cm.Blues)\n",
    "#     plt.axis('off')\n",
    "#     plt.savefig('frame%03d.png' % i)\n",
    "#     plt.cla()\n",
    "# !convert -delay 5 *png animated.gif  # requires Imagemagick\n",
    "\n",
    "print lights.sum()\n",
    "print lights2.sum()"
   ]
  },
  {
   "cell_type": "markdown",
   "metadata": {},
   "source": [
    "### Day 19: Medicine for Rudolph"
   ]
  },
  {
   "cell_type": "code",
   "execution_count": null,
   "metadata": {
    "collapsed": true
   },
   "outputs": [],
   "source": []
  }
 ],
 "metadata": {
  "kernelspec": {
   "display_name": "Python 2",
   "language": "python",
   "name": "python2"
  },
  "language_info": {
   "codemirror_mode": {
    "name": "ipython",
    "version": 2
   },
   "file_extension": ".py",
   "mimetype": "text/x-python",
   "name": "python",
   "nbconvert_exporter": "python",
   "pygments_lexer": "ipython2",
   "version": "2.7.10"
  }
 },
 "nbformat": 4,
 "nbformat_minor": 0
}
