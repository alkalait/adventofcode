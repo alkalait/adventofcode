{
 "cells": [
  {
   "cell_type": "markdown",
   "metadata": {},
   "source": [
    "# Advent of Code\n"
   ]
  },
  {
   "cell_type": "code",
   "execution_count": 1,
   "metadata": {
    "collapsed": false
   },
   "outputs": [],
   "source": [
    "import numpy as np\n",
    "import re\n",
    "import pandas as pd\n",
    "import itertools\n",
    "from tqdm import tqdm\n",
    "import sys\n",
    "import matplotlib.pyplot as plt\n",
    "%matplotlib inline"
   ]
  },
  {
   "cell_type": "markdown",
   "metadata": {},
   "source": [
    "### Day 1: Not Quite Lisp"
   ]
  },
  {
   "cell_type": "code",
   "execution_count": null,
   "metadata": {
    "collapsed": false,
    "scrolled": true
   },
   "outputs": [],
   "source": [
    "with open('./data/input1.txt', 'r') as f:\n",
    "    data = f.next()\n",
    "ups_and_downs = np.array([1 if x=='(' else -1 for x in data])\n",
    "print ups_and_downs.sum()\n",
    "print np.where(ups_and_downs.cumsum()==-1)[0][0] + 1"
   ]
  },
  {
   "cell_type": "markdown",
   "metadata": {},
   "source": [
    "### Day 2: I Was Told There Would Be No Math"
   ]
  },
  {
   "cell_type": "code",
   "execution_count": null,
   "metadata": {
    "collapsed": false,
    "scrolled": true
   },
   "outputs": [],
   "source": [
    "with open('./data/input2.txt', 'r') as f:\n",
    "    dims = np.array([map(str.strip, spec.split('x')) for spec in f], dtype=int)\n",
    "l, w, h = dims.T\n",
    "side_areas = np.array([l*w, w*h, h*l])\n",
    "surf_areas = 2 * side_areas.sum(0)\n",
    "print (surf_areas + side_areas.min(0)).sum()\n",
    "print sum(((2 * sum(sorted(spec)[:2])) + spec.prod() for spec in dims))"
   ]
  },
  {
   "cell_type": "markdown",
   "metadata": {},
   "source": [
    "### Day 3: Perfectly Spherical Houses in a Vacuum"
   ]
  },
  {
   "cell_type": "code",
   "execution_count": null,
   "metadata": {
    "collapsed": false,
    "scrolled": false
   },
   "outputs": [],
   "source": [
    "with open('./data/input3.txt', 'r') as f:\n",
    "    data = f.next()\n",
    "translation_map = {'^':(0,1), '>':(1,0), 'v':(0,-1), '<':(-1,0)}\n",
    "# don't forget to include the starting location (0,0) twice, once for Santa and once for Robo-Santa!\n",
    "translations = np.array([(0,0), (0,0)] + [translation_map[d] for d in data])\n",
    "santa, robosanta = translations[::2], translations[1::2]\n",
    "def unique_locations(translations):\n",
    "    path = translations.cumsum(0)\n",
    "    return set(map(tuple, path))\n",
    "\n",
    "print len(unique_locations(translations))\n",
    "print len(set.union(unique_locations(santa), unique_locations(robosanta)))"
   ]
  },
  {
   "cell_type": "markdown",
   "metadata": {},
   "source": [
    "### Day 4: The Ideal Stocking Stuffer"
   ]
  },
  {
   "cell_type": "code",
   "execution_count": null,
   "metadata": {
    "collapsed": false,
    "scrolled": false
   },
   "outputs": [],
   "source": [
    "import hashlib as hl\n",
    "\n",
    "def find_hash(key, min_zeros):\n",
    "    for i in itertools.count():\n",
    "        h = hl.md5(key + str(i))\n",
    "        if h.hexdigest()[:min_zeros] == '0'*min_zeros:\n",
    "            break\n",
    "    return i\n",
    "\n",
    "print find_hash('ckczppom', 5)\n",
    "print find_hash('ckczppom', 6)"
   ]
  },
  {
   "cell_type": "markdown",
   "metadata": {},
   "source": [
    "### Day 5: Doesn't He Have Intern-Elves For This?"
   ]
  },
  {
   "cell_type": "code",
   "execution_count": null,
   "metadata": {
    "collapsed": false,
    "scrolled": false
   },
   "outputs": [],
   "source": [
    "with open('./data/input5.txt', 'r') as f:\n",
    "    strings = [s.strip() for s in f]\n",
    "\n",
    "vowels_cond = np.array(map(lambda x: [c in 'aeiou' for c in x], strings)).sum(1) > 2\n",
    "repeat_cond = np.array([len(re.findall('(\\\\w)\\\\1', x)) for x in strings]) > 0\n",
    "forbid_cond = np.array(map(lambda x: [s in x for s in ('ab', 'cd', 'pq', 'xy')], strings)).sum(1) == 0\n",
    "repeat_cond2 = np.array([len(re.findall('(\\\\w{2}).*\\\\1', x)) for x in strings]) > 0\n",
    "repeat_cond3 = np.array([len(re.findall('(\\\\w).\\\\1', x)) for x in strings]) > 0\n",
    "\n",
    "print (forbid_cond & repeat_cond & vowels_cond).sum()\n",
    "print (repeat_cond2 & repeat_cond3).sum()"
   ]
  },
  {
   "cell_type": "markdown",
   "metadata": {},
   "source": [
    "### Day 6: Probably a Fire Hazard"
   ]
  },
  {
   "cell_type": "code",
   "execution_count": null,
   "metadata": {
    "collapsed": false,
    "scrolled": false
   },
   "outputs": [],
   "source": [
    "lights = np.zeros((1000, 1000), dtype=bool)\n",
    "display = np.zeros((1000, 1000), dtype=int)\n",
    "with open('./data/input6.txt', 'r') as f:\n",
    "    coords = np.array([re.findall('(.*) (\\d+),(\\d+).*?(\\d+),(\\d+)', r)[0] for r in f])\n",
    "\n",
    "commands, (x1, y1, x2, y2) = coords.T[0], coords.T[1:].astype(int)\n",
    "for i, c in enumerate(commands):\n",
    "    if c == 'turn on':\n",
    "        lights[x1[i]:x2[i]+1, y1[i]:y2[i]+1] = True\n",
    "        display[x1[i]:x2[i]+1, y1[i]:y2[i]+1] += 1\n",
    "    elif c == 'turn off':\n",
    "        lights[x1[i]:x2[i]+1, y1[i]:y2[i]+1] = False\n",
    "        display[x1[i]:x2[i]+1, y1[i]:y2[i]+1] -= 1\n",
    "    else:\n",
    "        lights[x1[i]:x2[i]+1, y1[i]:y2[i]+1] = ~lights[x1[i]:x2[i]+1, y1[i]:y2[i]+1]\n",
    "        display[x1[i]:x2[i]+1, y1[i]:y2[i]+1] += 2\n",
    "    display = np.maximum(0, display)\n",
    "\n",
    "print lights.sum()\n",
    "print np.maximum(0, display).sum()"
   ]
  },
  {
   "cell_type": "markdown",
   "metadata": {},
   "source": [
    "### Day 7: Some Assembly Required"
   ]
  },
  {
   "cell_type": "code",
   "execution_count": null,
   "metadata": {
    "collapsed": false,
    "scrolled": true
   },
   "outputs": [],
   "source": [
    "d = {'AND':'&', 'OR':'|', 'RSHIFT':'>>', 'LSHIFT':'<<', 'NOT':'~'}\n",
    "bitwise = re.compile(r'(' + '|'.join(d.keys()) + r')')\n",
    "\n",
    "with open('./data/input7.txt', 'r') as f:\n",
    "    data = f.read().replace('if', 'iff').replace('as', 'ass').replace('in', 'inn').replace('is', 'iss').split('\\n')[:-1]\n",
    "\n",
    "data = map(lambda x: bitwise.sub(lambda y: d[y.group()], x), data)  # replace by bit-wise operators\n",
    "data = map(lambda x: re.findall('(.+) -> (.+)', x)[0], data)\n",
    "circuit = {x[1]: x[1] + ' = ' + x[0] for x in data} # \n",
    "\n",
    "def run_circuit(circuit, out):\n",
    "    '''Not efficient: Runs in O(N**2)'''\n",
    "    for _ in range(len(circuit)):\n",
    "        for wire in circuit:\n",
    "            try: exec(circuit[wire])\n",
    "            except: pass\n",
    "    return eval(out)\n",
    "\n",
    "a = run_circuit(circuit, 'a')\n",
    "circuit['b'] = 'b = %d' % a  # override b signal\n",
    "print a\n",
    "print run_circuit(circuit, 'a')  # run updated circuit"
   ]
  },
  {
   "cell_type": "markdown",
   "metadata": {},
   "source": [
    "###  Day 8: Matchsticks"
   ]
  },
  {
   "cell_type": "code",
   "execution_count": null,
   "metadata": {
    "collapsed": false,
    "scrolled": false
   },
   "outputs": [],
   "source": [
    "with open('./data/input8.txt', 'r') as f:\n",
    "    data = f.read().split('\\n')[:-1]\n",
    "\n",
    "escapechars = re.compile('|'.join([r'\\\\', \"'\", '\"']))\n",
    "\n",
    "df = pd.DataFrame({'stringcode': data, 'string': map(eval, data),\n",
    "                   'stringcodecode': map(lambda x: \"'\"+escapechars.sub(lambda y:'\\\\'+y.group(),x)+\"'\", data)\n",
    "                  })\n",
    "print (df.stringcode.map(len) - df.string.map(len)).sum()\n",
    "print (df.stringcodecode.map(len) - df.stringcode.map(len)).sum()\n",
    "df.head()"
   ]
  },
  {
   "cell_type": "markdown",
   "metadata": {},
   "source": [
    "### Day 9: All in a Single Night"
   ]
  },
  {
   "cell_type": "code",
   "execution_count": null,
   "metadata": {
    "collapsed": false,
    "scrolled": true
   },
   "outputs": [],
   "source": [
    "with open('./data/input9.txt', 'r') as f:\n",
    "    data = map(lambda x: x.split(' ')[::2], f.read().split('\\n')[:-1])\n",
    "\n",
    "df = pd.DataFrame(data, columns=['A', 'B', 'distance']).pivot('A', 'B', 'distance')\n",
    "\n",
    "def dist(A, B):\n",
    "    try: return int(df[A][B])\n",
    "    except: return int(df[B][A])\n",
    "\n",
    "min_tour_len = np.Inf\n",
    "max_tour_len = 0\n",
    "locations = df.columns | df.index\n",
    "for tour in itertools.permutations(locations, len(locations)):\n",
    "    tour_len = sum([dist(tour[j], tour[j+1]) for j in xrange(len(tour)-1)])\n",
    "    min_tour_len = min(tour_len, min_tour_len)\n",
    "    max_tour_len = max(tour_len, max_tour_len)\n",
    "\n",
    "print min_tour_len\n",
    "print max_tour_len"
   ]
  },
  {
   "cell_type": "markdown",
   "metadata": {},
   "source": [
    "### Day 10: Elves Look, Elves Say"
   ]
  },
  {
   "cell_type": "code",
   "execution_count": null,
   "metadata": {
    "collapsed": false
   },
   "outputs": [],
   "source": [
    "def look_and_say(N):\n",
    "    new_N = ''\n",
    "    last_char = N[0]\n",
    "    count = 0\n",
    "    for c in N:\n",
    "        if c == last_char:\n",
    "            count += 1\n",
    "        else:\n",
    "            new_N += str(count) + last_char\n",
    "            last_char = c\n",
    "            count = 1\n",
    "    new_N += str(count) + last_char\n",
    "    return new_N\n",
    "\n",
    "N = '1113122113'\n",
    "lengths = []\n",
    "for _ in xrange(50):\n",
    "    N = look_and_say(N)\n",
    "    lengths.append(len(N))\n",
    "print lengths[39]\n",
    "print lengths[-1]"
   ]
  },
  {
   "cell_type": "markdown",
   "metadata": {},
   "source": [
    "### Day 11: Corporate Policy"
   ]
  },
  {
   "cell_type": "code",
   "execution_count": null,
   "metadata": {
    "collapsed": false
   },
   "outputs": [],
   "source": [
    "def next_pwd(pwd):\n",
    "    return next_pwd(pwd[:-1]) + 'a' if pwd[-1] == 'z' else pwd[:-1] + unichr(ord(pwd[-1]) + 1)\n",
    "\n",
    "def check_for_staight(pwd):\n",
    "    for i, c in enumerate(pwd[:-2]):\n",
    "        if unichr(ord(c)+1) == pwd[i+1] and unichr(ord(c)+2) == pwd[i+2]:\n",
    "            return True\n",
    "    return False\n",
    "\n",
    "def check_for_chars(pwd):\n",
    "    return ~np.array([c in pwd for c in 'iol']).any()\n",
    "\n",
    "def check_for_pairs(pwd):\n",
    "    return len(re.findall('(\\w)\\\\1', pwd)) > 1\n",
    "\n",
    "def next_valid_pwd(pwd):\n",
    "    for _ in itertools.count():\n",
    "        if check_for_staight(pwd) and check_for_chars(pwd) and check_for_pairs(pwd):\n",
    "            return pwd\n",
    "        else:\n",
    "            pwd = next_pwd(pwd)\n",
    "\n",
    "pwd2 = next_valid_pwd('cqjxjnds')\n",
    "print pwd2\n",
    "print next_valid_pwd(next_pwd(pwd2))"
   ]
  },
  {
   "cell_type": "markdown",
   "metadata": {},
   "source": [
    "### Day 12: JSAbacusFramework.io"
   ]
  },
  {
   "cell_type": "code",
   "execution_count": null,
   "metadata": {
    "collapsed": false
   },
   "outputs": [],
   "source": [
    "with open('./data/input12.txt', 'r') as f:\n",
    "    data = eval(f.read())\n",
    "\n",
    "def sum_nested_numerals(obj, exclude_color=None):\n",
    "    s = 0\n",
    "    if type(obj) is dict and exclude_color in obj.itervalues():\n",
    "        return s\n",
    "    elif type(obj) is dict:\n",
    "        for key in obj:\n",
    "            s += sum_nested_numerals(obj[key], exclude_color)\n",
    "    elif type(obj) is list:\n",
    "        for item in obj:\n",
    "            s += sum_nested_numerals(item, exclude_color)\n",
    "    elif type(obj) is int:\n",
    "        s += obj\n",
    "    return s\n",
    "\n",
    "print sum_nested_numerals(data)\n",
    "print sum_nested_numerals(data, exclude_color='red')"
   ]
  },
  {
   "cell_type": "markdown",
   "metadata": {},
   "source": [
    "### Day 13: Knights of the Dinner Table"
   ]
  },
  {
   "cell_type": "code",
   "execution_count": null,
   "metadata": {
    "collapsed": false,
    "scrolled": true
   },
   "outputs": [],
   "source": [
    "with open('./data/input13.txt', 'r') as f:\n",
    "    data = map(lambda x: np.array(x.replace('gain ', '+').replace('lose ', '-').split(' '))[[0,2,-1]], f.read().split('.\\n')[:-1])\n",
    "\n",
    "w = pd.DataFrame(np.array(zip(*data)).T, columns=['A','weight','B']).pivot('A','B','weight').fillna(0).astype(int)\n",
    "w['You'] = 0\n",
    "w.loc['You'] = 0\n",
    "\n",
    "def max_seating_score(w):\n",
    "    max_score = 0\n",
    "    for seats in itertools.permutations(w.index, w.shape[0]):\n",
    "        score = sum([w[seats[j]][seats[j+1]] for j in xrange(-1, len(seats)-1)])\n",
    "        max_score = max(score, max_score)\n",
    "    return max_score\n",
    "\n",
    "print max_seating_score((w + w.T).iloc[:-1, :-1])\n",
    "print max_seating_score(w + w.T)"
   ]
  },
  {
   "cell_type": "markdown",
   "metadata": {},
   "source": [
    "### Day 14: Reindeer Olympics"
   ]
  },
  {
   "cell_type": "code",
   "execution_count": null,
   "metadata": {
    "collapsed": false
   },
   "outputs": [],
   "source": [
    "with open('./data/input14.txt', 'r') as f:\n",
    "    data = np.array(map(lambda x: np.array(x.split(' '))[[3,6,-2]], f.read().split('\\n')[:-1]), dtype=int)\n",
    "\n",
    "def state_in_time(speed, run_duration, rest_duration):\n",
    "    cycles = int(np.ceil(float(time) / (run_duration + rest_duration)))\n",
    "    return (([1]*run_duration + [0]*rest_duration) * cycles)\n",
    "\n",
    "time = 2503\n",
    "cum_distances = np.array(map(lambda x: np.cumsum(state_in_time(*x)[:time]) * x[0], data))\n",
    "\n",
    "print max(cum_distances[:, -1])\n",
    "print pd.Series(cum_distances.argmax(0)).value_counts().max()"
   ]
  },
  {
   "cell_type": "markdown",
   "metadata": {},
   "source": [
    "### Day 15: Science for Hungry People"
   ]
  },
  {
   "cell_type": "code",
   "execution_count": null,
   "metadata": {
    "collapsed": false
   },
   "outputs": [],
   "source": [
    "with open('./data/input15.txt', 'r') as f:\n",
    "    # properties x ingredients\n",
    "    properties = np.reshape(re.findall('-?\\d+', f.read()), (4, 5)).astype(int).T\n",
    "\n",
    "max_score = 0\n",
    "max_score_lite = 0\n",
    "for c in itertools.product(*[xrange(101)]*3):\n",
    "    c = c[0], c[1], c[2], 100 - sum(c)\n",
    "    if c[-1] >= 0:  # do the teaspoons add to 100?\n",
    "        mix = np.maximum(0, np.dot(properties, c))\n",
    "        max_score = max(max_score, mix[:-1].prod())\n",
    "        if mix[-1] == 500:  # does this recipe yield 500 calories?\n",
    "            max_score_lite = max(max_score_lite, mix[:-1].prod())\n",
    "\n",
    "print max_score\n",
    "print max_score_lite"
   ]
  },
  {
   "cell_type": "markdown",
   "metadata": {},
   "source": [
    "### Day 16: Aunt Sue"
   ]
  },
  {
   "cell_type": "code",
   "execution_count": null,
   "metadata": {
    "collapsed": false,
    "scrolled": false
   },
   "outputs": [],
   "source": [
    "df = pd.DataFrame(columns=['children', 'cats', 'samoyeds', 'pomeranians', 'akitas', 'vizslas',\n",
    "                           'goldfish', 'trees', 'cars', 'perfumes'])\n",
    "with open('./data/input16.txt', 'r') as f:\n",
    "    data = f.read().split('\\n')[:-1]\n",
    "\n",
    "aunt_signature = np.array([3, 7, 2, 3, 0, 0, 5, 3, 2, 1])\n",
    "for r in tqdm(data):\n",
    "    exec('df.loc[%s,:] = {\\'%s\\':%s, \\'%s\\':%s, \\'%s\\':%s}' % re.findall('(\\d+): (.+): (\\d+), (.+): (\\d+), (.+): (\\d+)', r)[0])\n",
    "    \n",
    "print df[df.apply(lambda x: sum(x == aunt_signature) == 3, axis=1)]\n",
    "print df[df.apply(lambda x:\n",
    "         sum(list(x[[0,2,4,5,8,9]]==aunt_signature[[0,2,4,5,8,9]]) +\n",
    "         list(x[[1,7]]>aunt_signature[[1,7]])+\n",
    "         list(x[[3,6]]<aunt_signature[[3,6]])) == 3,\n",
    "         axis=1)]"
   ]
  },
  {
   "cell_type": "markdown",
   "metadata": {},
   "source": [
    "### Day 17: No Such Thing as Too Much"
   ]
  },
  {
   "cell_type": "code",
   "execution_count": null,
   "metadata": {
    "collapsed": false,
    "scrolled": false
   },
   "outputs": [],
   "source": [
    "with open('./data/input17.txt', 'r') as f:\n",
    "    containers = np.array(f.read().split('\\n')[:-1], dtype=int)\n",
    "\n",
    "count = 0\n",
    "combo_150 = []\n",
    "for n in tqdm(xrange(1, len(containers) + 1)):\n",
    "    for combo in itertools.combinations(containers, n):\n",
    "        if sum(combo) == 150:\n",
    "            count += 1\n",
    "            combo_150.append(combo)\n",
    "\n",
    "print count\n",
    "print pd.Series(map(len, combo_150)).value_counts().iloc[-1]"
   ]
  },
  {
   "cell_type": "markdown",
   "metadata": {},
   "source": [
    "### Day 18: Like a GIF For Your Yard"
   ]
  },
  {
   "cell_type": "code",
   "execution_count": null,
   "metadata": {
    "collapsed": true
   },
   "outputs": [],
   "source": [
    "with open('./data/input18.txt', 'r') as f:\n",
    "    lights = np.array(map(list, f.read().replace('#', '1').replace('.', '0').split('\\n')[:-1]), dtype=int)\n",
    "    lights2 = lights.copy()\n",
    "    lights2[[0, 0, 99, 99], [0, 99, 0, 99]] = 1 \n",
    "    \n",
    "def next_state(lights):\n",
    "    n = lights.shape[0]\n",
    "    appended_lights = np.zeros((n + 2, n + 2))\n",
    "    appended_lights[1:-1, 1:-1] = lights\n",
    "    new_state = np.zeros_like(appended_lights)\n",
    "    for i, j in itertools.product(xrange(1, n + 1), xrange(1, n + 1)):\n",
    "        s = appended_lights[i - 1:i + 2, j - 1:j + 2].sum() - appended_lights[i, j]\n",
    "        if appended_lights[i, j] == 1:\n",
    "            new_state[i, j] = 0 if s not in [2, 3] else 1\n",
    "        else:\n",
    "            new_state[i, j] = 1 if s == 3 else 0\n",
    "    return new_state[1:-1, 1:-1]\n",
    "\n",
    "# plt.figure(figsize=(7,7))\n",
    "for i in tqdm(range(100)):\n",
    "    lights = next_state(lights)\n",
    "    lights2 = next_state(lights2)\n",
    "    lights2[[0, 0, 99, 99], [0, 99, 0, 99]] = 1\n",
    "    \n",
    "#     plt.imshow(lights, interpolation='nearest', cmap=plt.cm.Blues)\n",
    "#     plt.axis('off')\n",
    "#     plt.savefig('frame%03d.png' % i)\n",
    "#     plt.cla()\n",
    "# !convert -delay 5 *png animated.gif  # requires Imagemagick\n",
    "\n",
    "print lights.sum()\n",
    "print lights2.sum()"
   ]
  },
  {
   "cell_type": "markdown",
   "metadata": {},
   "source": [
    "### Day 19: Medicine for Rudolph"
   ]
  },
  {
   "cell_type": "code",
   "execution_count": 171,
   "metadata": {
    "collapsed": false,
    "scrolled": false
   },
   "outputs": [
    {
     "name": "stdout",
     "output_type": "stream",
     "text": [
      "535\n",
      "212\n"
     ]
    }
   ],
   "source": [
    "with open('./data/input19.txt') as f:\n",
    "    data = f.read().split('\\n')[:-1]\n",
    "repl = map(lambda x: re.findall('(.+) => (.*)', x)[0], data[:-2])\n",
    "repl_r = dict(zip(*zip(*repl)[::-1]))\n",
    "molecule = data[-1]\n",
    "repl = {key:[v for k, v in repl if k == key] for key in zip(*repl)[0]}\n",
    "\n",
    "def derivative_molecules(molecule, repl):\n",
    "    new_molecules = []\n",
    "    for k, V in repl.iteritems():\n",
    "        n_matches = len(re.findall(k, molecule))\n",
    "        for v in V:\n",
    "            new_molecules.extend([re.sub('^((.*?%s){%d}.*?)%s' % (k, i, k), '\\\\1'+v, molecule) for i in xrange(n_matches)])\n",
    "    return new_molecules\n",
    "\n",
    "def reverse_engineer(molecule):\n",
    "    molecules = [molecule]\n",
    "    while molecules[-1] != 'e':\n",
    "        molecules.append(re.sub('^(.*)(' + '|'.join(repl_r.keys()) + ')(.*?)$',\n",
    "                                lambda x: x.group(1) + repl_r[x.group(2)] + x.group(3),\n",
    "                                molecules[-1]))\n",
    "    return molecules\n",
    "\n",
    "print len(set(derivative_molecules(molecule, repl)))\n",
    "print len(reverse_engineer(molecule)) - 1"
   ]
  },
  {
   "cell_type": "markdown",
   "metadata": {},
   "source": [
    "### Day 20: Infinite Elves and Infinite Houses"
   ]
  },
  {
   "cell_type": "code",
   "execution_count": 506,
   "metadata": {
    "collapsed": false,
    "scrolled": true
   },
   "outputs": [
    {
     "name": "stdout",
     "output_type": "stream",
     "text": [
      "786240\n",
      "831600\n"
     ]
    }
   ],
   "source": [
    "def prime_sieve(limit):\n",
    "    \"\"\"source: http://stackoverflow.com/a/3941967/5350602\"\"\"\n",
    "    a = np.array([True] * limit)  # Initialize the primality list\n",
    "    a[0] = a[1] = False\n",
    "\n",
    "    for (i, isprime) in enumerate(a):\n",
    "        if isprime:\n",
    "            yield i\n",
    "            a[i**2:limit:i] = False  # Mark factors non-prime\n",
    "\n",
    "def prime_factorization(n, prime_sieve):\n",
    "    \"\"\"source: https://en.wikipedia.org/wiki/Trial_division\"\"\"\n",
    "    if n < 2:\n",
    "        return []\n",
    "    prime_factors = []\n",
    "    for p in prime_sieve(int(n**0.5) + 1):\n",
    "        if p*p > n: break\n",
    "        while n % p == 0:\n",
    "            prime_factors.append(p)\n",
    "            n /= p\n",
    "    if n > 1:\n",
    "        prime_factors.append(n)\n",
    "    return prime_factors\n",
    "\n",
    "def factors(n, limit=1):\n",
    "    fa = []\n",
    "    prime_factors = prime_factorization(n, prime_sieve)\n",
    "    for l in xrange(1, len(prime_factors) + 1):\n",
    "        fa.extend([np.array(c).prod() for c in itertools.combinations(prime_factors, l)])\n",
    "    fa = np.unique(fa + [1])\n",
    "    if limit > 1:\n",
    "        fa = fa[fa >= (n / limit)]\n",
    "    return fa\n",
    "\n",
    "\n",
    "data = 34000000\n",
    "for n in itertools.count(785000):\n",
    "    if factors(n).sum() * 10 >= data:\n",
    "        print n\n",
    "        break\n",
    "for n in itertools.count(830000):\n",
    "    if factors(n, limit=50.0).sum() * 11 >= data:\n",
    "        print n\n",
    "        break"
   ]
  },
  {
   "cell_type": "markdown",
   "metadata": {},
   "source": [
    "### Day 21: RPG Simulator 20XX"
   ]
  },
  {
   "cell_type": "code",
   "execution_count": 837,
   "metadata": {
    "collapsed": false,
    "scrolled": false
   },
   "outputs": [
    {
     "name": "stdout",
     "output_type": "stream",
     "text": [
      "cost            121\n",
      "damage            9\n",
      "armor             2\n",
      "player_wins    True\n",
      "Name: 568, dtype: object\n",
      "cost             201\n",
      "damage             7\n",
      "armor              4\n",
      "player_wins    False\n",
      "Name: 52, dtype: object\n"
     ]
    }
   ],
   "source": [
    "weapons = np.array(re.findall('\\d+',\n",
    "            \"\"\"Weapons:    Cost  Damage  Armor\n",
    "               Dagger        8     4       0\n",
    "               Shortsword   10     5       0\n",
    "               Warhammer    25     6       0\n",
    "               Longsword    40     7       0\n",
    "               Greataxe     74     8       0\"\"\"), dtype=int).reshape(5, 3)\n",
    "\n",
    "armors = np.array(re.findall('\\d+',\n",
    "            \"\"\"Armor:      Cost  Damage  Armor\n",
    "               noarmor       0     0       0\n",
    "               Leather      13     0       1\n",
    "               Chainmail    31     0       2\n",
    "               Splintmail   53     0       3\n",
    "               Bandedmail   75     0       4\n",
    "               Platemail   102     0       5\"\"\"), dtype=int).reshape(6, 3)\n",
    "\n",
    "rings = np.array(re.findall(' \\d+',\n",
    "            \"\"\"Rings:      Cost  Damage  Armor\n",
    "               noring        0     0       0\n",
    "               noring        0     0       0\n",
    "               Damage +1    25     1       0\n",
    "               Damage +2    50     2       0\n",
    "               Damage +3   100     3       0\n",
    "               Defense +1   20     0       1\n",
    "               Defense +2   40     0       2\n",
    "               Defense +3   80     0       3\"\"\"), dtype=int).reshape(8, 3)\n",
    "\n",
    "ring_combo = itertools.combinations(rings, 2)\n",
    "combo_stats = pd.DataFrame([w + a + sum(r) for (w, a, r) in itertools.product(weapons, armors, ring_combo)],\n",
    "                           columns=['cost','damage', 'armor'])\n",
    "    \n",
    "def duel(player_stats, boss_stats, player_turn=True, verbose=False):\n",
    "    boss_hp = boss_stats[0]\n",
    "    player_hp = player_stats[0]\n",
    "    while player_hp > 0 and boss_hp > 0:\n",
    "        if player_turn:\n",
    "            boss_hp -= max(1, player_stats[1] - boss_stats[2])\n",
    "            if verbose:\n",
    "                print 'The player deals %d-%d = %d damage; the boss goes down to %d hit points.' % \\\n",
    "                (player_stats[1], boss_stats[2], player_stats[1] - boss_stats[2], boss_hp)\n",
    "        else:\n",
    "            player_hp -= max(1, boss_stats[1] - player_stats[2])\n",
    "            if verbose:\n",
    "                print 'The boss deals %d-%d = %d damage; the player goes down to %d hit points.' % \\\n",
    "                (boss_stats[1], player_stats[2], boss_stats[1] - player_stats[2], player_hp)\n",
    "        player_turn = not player_turn\n",
    "    return (not player_turn)\n",
    "\n",
    "boss_stats = [103, 9, 2]  # hit_points, damage, armor\n",
    "combo_stats['player_wins'] = combo_stats.apply(lambda x: duel([100, x[1], x[2]], boss_stats, player_turn=True), axis=1)\n",
    "\n",
    "print combo_stats[combo_stats.player_wins].sort('cost').iloc[0]  # part 1\n",
    "print combo_stats[~combo_stats.player_wins].sort('cost').iloc[-1]  # part 2"
   ]
  },
  {
   "cell_type": "markdown",
   "metadata": {},
   "source": [
    "### Day 22: Wizard Simulator 20XX"
   ]
  },
  {
   "cell_type": "code",
   "execution_count": 108,
   "metadata": {
    "collapsed": false,
    "scrolled": true
   },
   "outputs": [
    {
     "name": "stdout",
     "output_type": "stream",
     "text": [
      "5301 ('shield', 'magic_missile', 'recharge')\n",
      "2060 ('shield', 'recharge', 'poison')\n",
      "1947 ('recharge', 'poison', 'shield')\n",
      "1718 ('poison', 'recharge', 'shield')\n",
      "1704 ('shield', 'recharge', 'poison', 'magic_missile')\n",
      "1651 ('recharge', 'poison', 'shield', 'magic_missile')\n",
      "1591 ('recharge', 'poison', 'magic_missile', 'shield')\n",
      "1422 ('poison', 'recharge', 'shield', 'magic_missile')\n",
      "1362 ('poison', 'recharge', 'magic_missile', 'shield')\n",
      "1348 ('magic_missile', 'magic_missile', 'recharge', 'shield', 'poison')\n",
      "1295 ('magic_missile', 'recharge', 'shield', 'poison', 'magic_missile')\n",
      "953 ('poison', 'magic_missile', 'recharge', 'magic_missile', 'shield')\n",
      "\n",
      "1947 ['recharge' 'poison' 'shield']\n",
      "1718 ['poison' 'recharge' 'shield']\n",
      "1591 ['recharge' 'poison' 'magic_missile' 'shield']\n",
      "1495 ['poison' 'recharge' 'drain' 'shield']\n",
      "1422 ['poison' 'recharge' 'shield' 'magic_missile']\n",
      "1362 ['poison' 'recharge' 'poison' 'magic_missile' 'shield']\n",
      "1309 ['poison' 'recharge' 'shield' 'poison' 'magic_missile']\n",
      "1289 ['poison' 'poison' 'recharge' 'shield' 'shield' 'poison' 'drain' 'recharge'\n",
      " 'poison' 'recharge' 'drain' 'magic_missile' 'shield' 'magic_missile'\n",
      " 'poison' 'shield' 'poison' 'poison']\n"
     ]
    }
   ],
   "source": [
    "class character(object):\n",
    "    \n",
    "    def __init__(self, mana=0, hp=0, damage=0, armor=0):\n",
    "        self.mana, self.hp, self.damage, self.armor = mana, hp, damage, armor\n",
    "        self._effects = {}\n",
    "\n",
    "    def attack(self, target, verbose):  # Physical attack\n",
    "        if verbose: print 'Boss attacks for %d - %d = %d damage!' % (self.damage, target.armor, self.damage - target.armor)\n",
    "        target.hp -= max(1, self.damage - target.armor)  # at least 1 dmg must be dealt\n",
    "        \n",
    "    def apply_effects(self, verbose):\n",
    "        for e in self._effects.keys():\n",
    "            s = eval('self._' + e + '()')\n",
    "            self._effects[e] -= 1\n",
    "            if verbose: print s, 'its timer is now %d.' % self._effects[e]\n",
    "            if self._effects[e] == 0:  # remove effect when expired\n",
    "                self._effects.pop(e)\n",
    "                if verbose: print '%s wears off.' % e[:-7].title()\n",
    "\n",
    "    def _shield_effect(self):\n",
    "        if self._effects['shield_effect'] == 1: self.armor -= 7\n",
    "        return 'Shield is active;'\n",
    "    def _poison_effect(self):\n",
    "        self.hp -= 3\n",
    "        return 'Poisson deals 3 damage;'\n",
    "    def _recharge_effect(self):\n",
    "        self.mana += 101\n",
    "        return 'Recharge provides 101 mana;'\n",
    "\n",
    "\n",
    "class wizard(character):\n",
    "    \n",
    "    def __init__(self, *args, **kwargs):\n",
    "        character.__init__(self, *args, **kwargs)\n",
    "        self.mana_spend = 0\n",
    "        self.spells = {'magic_missile': (self.magic_missile, 53), 'drain': (self.drain, 73),\n",
    "                       'shield': (self.shield, 113), 'poison': (self.poison, 173), 'recharge': (self.recharge, 229)}\n",
    "            \n",
    "    def can_cast(self, spell, target):\n",
    "        return (self.mana >= self.spells[spell][1]) and (spell + '_effect' not in target._effects.keys() + self._effects.keys())\n",
    "    \n",
    "    def cast(self, spell, target, verbose):  # Magical attack\n",
    "        if self.can_cast(spell, target):\n",
    "            if verbose: print 'Player casts %s.' % spell.title().replace('_', ' ')\n",
    "            self.mana -= self.spells[spell][1]\n",
    "            self.mana_spend += self.spells[spell][1]\n",
    "            self.spells[spell][0](target)\n",
    "            return True\n",
    "        \n",
    "    def magic_missile(self, target):  # Magic Missile (53) instantly does 4 damage.\n",
    "        target.hp -= 4\n",
    "    def drain(self, target):  # Drain (73) instantly does 2 damage and heals you for 2 hit points.\n",
    "        target.hp -= 2\n",
    "        self.hp += 2\n",
    "    def shield(self, target):  # Shield (113, 6 turns) while active, increases your armor by 7.\n",
    "        self.armor += 7\n",
    "        self._effects['shield_effect'] = 6\n",
    "    def poison(self, target):  # Poison (173, 6 turns) while active, at the start of each turn deals 3 damage.\n",
    "        target._effects['poison_effect'] = 6\n",
    "    def recharge(self, target):  # Recharge (229, 5 turns) while active, at the start of each turn gives you 101 mana.\n",
    "        self._effects['recharge_effect']  = 5\n",
    "\n",
    "\n",
    "def duel(player, boss, spell_seq, player_turn=True, verbose=True, hardmode=False, mana_thres=1e6):\n",
    "\n",
    "    spell_iter = itertools.cycle(spell_seq)\n",
    "    while True:\n",
    "        \n",
    "        if verbose:\n",
    "            print '\\n-- %s turn --' % ['Boss', 'Player'][player_turn]\n",
    "            print '- Player has %d hit points, %d armor, %d mana' % (player.hp, player.armor, player.mana)\n",
    "            print '- Boss has %d hit points' % boss.hp\n",
    "        \n",
    "        if hardmode and player_turn:\n",
    "            player.hp -= 1\n",
    "            if verbose: print 'Hard mode deals 1 damage.'\n",
    "        \n",
    "        player.apply_effects(verbose)  # Check for effects.\n",
    "        if player.hp <= 0:\n",
    "            if verbose: print 'Boss wins.'\n",
    "            return False\n",
    "\n",
    "        boss.apply_effects(verbose)\n",
    "        if boss.hp <= 0:\n",
    "            if verbose: print 'Player wins.'\n",
    "            return True\n",
    "        \n",
    "        if player_turn:\n",
    "            if player.mana < 53:\n",
    "                if verbose: print 'Player mana depleted. Boss wins.'\n",
    "                return False            \n",
    "            cast_fail_count = 0\n",
    "            while not player.cast(spell_iter.next(), boss, verbose):\n",
    "                cast_fail_count += 1\n",
    "                if cast_fail_count == len(spell_seq): return False\n",
    "        else: boss.attack(player, verbose)\n",
    "            \n",
    "        if player.mana_spend > mana_thres: return False  # for pruning\n",
    "        \n",
    "        if boss.hp <= 0:\n",
    "            if verbose: print 'Player wins.'\n",
    "            return True\n",
    "        elif player.hp <= 0:\n",
    "            if verbose: print 'Boss wins.'\n",
    "            return False\n",
    "    \n",
    "        player_turn = not player_turn\n",
    "        \n",
    "        \n",
    "actions = ['shield', 'magic_missile', 'recharge', 'drain', 'poison']\n",
    "min_mana = 9999\n",
    "for l in range(1, 6):\n",
    "    for combo in itertools.product(*[actions]*l):\n",
    "        player = wizard(mana=500, hp=50)\n",
    "        boss = character(hp=55, damage=8, armor=0)\n",
    "        player_won = duel(player, boss, combo, verbose=False, mana_thres=min_mana) \n",
    "        if player_won and player.mana_spend < min_mana:\n",
    "            min_mana = player.mana_spend\n",
    "            print min_mana, combo\n",
    "            sys.stdout.flush()\n",
    "\n",
    "print\n",
    "min_mana = 9999\n",
    "for l in range(1, 30):\n",
    "    for combo in np.random.choice(actions, size=(1000, l)):  # itertools.product(*[actions]*l):\n",
    "        player = wizard(mana=500, hp=50);\n",
    "        boss = character(hp=55, damage=8, armor=0)\n",
    "        player_won = duel(player, boss, combo, verbose=False, hardmode=True, mana_thres=min_mana)\n",
    "        if player_won and player.mana_spend < min_mana:\n",
    "            min_mana = player.mana_spend\n",
    "            print min_mana, combo\n",
    "            sys.stdout.flush()"
   ]
  },
  {
   "cell_type": "markdown",
   "metadata": {
    "collapsed": true
   },
   "source": [
    "### Day 23: Opening the Turing Lock"
   ]
  },
  {
   "cell_type": "code",
   "execution_count": null,
   "metadata": {
    "collapsed": true
   },
   "outputs": [],
   "source": []
  },
  {
   "cell_type": "code",
   "execution_count": null,
   "metadata": {
    "collapsed": true
   },
   "outputs": [],
   "source": []
  },
  {
   "cell_type": "code",
   "execution_count": null,
   "metadata": {
    "collapsed": true
   },
   "outputs": [],
   "source": []
  },
  {
   "cell_type": "code",
   "execution_count": null,
   "metadata": {
    "collapsed": true
   },
   "outputs": [],
   "source": []
  },
  {
   "cell_type": "code",
   "execution_count": null,
   "metadata": {
    "collapsed": false
   },
   "outputs": [],
   "source": [
    "# from PIL import Image\n",
    "# im = Image.open(\"./../../../Desktop/Untitled.png\")\n",
    "# lights = ~np.array(im).astype(bool)\n",
    "\n",
    "# def next_state(lights):\n",
    "#     n = lights.shape[0]\n",
    "#     appended_lights = np.zeros((n + 2, n + 2))\n",
    "#     appended_lights[1:-1, 1:-1] = lights\n",
    "#     new_state = np.zeros_like(appended_lights)\n",
    "#     for i, j in itertools.product(xrange(1, n + 1), xrange(1, n + 1)):\n",
    "#         s = appended_lights[i - 1:i + 2, j - 1:j + 2].sum() - appended_lights[i, j]\n",
    "#         if appended_lights[i, j] == 1:\n",
    "#             new_state[i, j] = 0 if s not in [2, 3] else 1\n",
    "#         else:\n",
    "#             new_state[i, j] = 1 if s == 3 else 0\n",
    "#     return new_state[1:-1, 1:-1]\n",
    "\n",
    "# plt.figure(figsize=(10, 10))\n",
    "# plt.imshow(lights, interpolation='nearest', cmap=plt.cm.Blues)\n",
    "# plt.axis('off')\n",
    "# for i in tqdm(range(150, 100, -1)):\n",
    "#     plt.savefig('frame%03d.png' % i, dpi=100)\n",
    "\n",
    "# for i in tqdm(range(100, 0, -1)):\n",
    "#     lights = next_state(lights)\n",
    "#     plt.imshow(lights, interpolation='nearest', cmap=plt.cm.Blues)\n",
    "#     plt.axis('off')\n",
    "#     plt.savefig('frame%03d.png' % i, dpi=100)\n",
    "#     plt.cla()\n",
    "\n",
    "# # !convert -delay 5 *png animated.gif  # requires Imagemagick"
   ]
  }
 ],
 "metadata": {
  "kernelspec": {
   "display_name": "Python 2",
   "language": "python",
   "name": "python2"
  },
  "language_info": {
   "codemirror_mode": {
    "name": "ipython",
    "version": 2
   },
   "file_extension": ".py",
   "mimetype": "text/x-python",
   "name": "python",
   "nbconvert_exporter": "python",
   "pygments_lexer": "ipython2",
   "version": "2.7.11"
  }
 },
 "nbformat": 4,
 "nbformat_minor": 0
}
